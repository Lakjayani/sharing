{
 "cells": [
  {
   "cell_type": "markdown",
   "id": "33f04f08-b491-47cc-9662-83384f97be02",
   "metadata": {},
   "source": [
    "# Data Science Tools and Ecosystem"
   ]
  },
  {
   "cell_type": "code",
   "execution_count": null,
   "id": "4c1334ee-88ae-4882-8f5e-85291b81139e",
   "metadata": {},
   "outputs": [],
   "source": [
    "In this notebook, Data Science Tools and Ecosystem are summarized."
   ]
  },
  {
   "cell_type": "markdown",
   "id": "6a523b7a-ff7f-4601-b43a-6ef20d637747",
   "metadata": {},
   "source": [
    "Some of the popular languages that Data Scientists use are:\n",
    "1. R\n",
    "2. Python\n",
    "3. C++"
   ]
  },
  {
   "cell_type": "markdown",
   "id": "8451026e-1762-4cfc-868b-7fbf2aae3737",
   "metadata": {},
   "source": [
    "Some of the commonly used libraries used by Data Scientists include:\n",
    "1. NumPy\n",
    "2. Pandas\n",
    "3. Matplotlib"
   ]
  },
  {
   "cell_type": "markdown",
   "id": "d2bcc993-c7fd-4f32-9843-2f99e89192e1",
   "metadata": {},
   "source": [
    "|Data Science Tools|\n",
    "|--------------|\n",
    "|Jupytor Notebook|\n",
    "| R studio|\n",
    "|Apache Zeppelin|"
   ]
  },
  {
   "cell_type": "markdown",
   "id": "2ff8e791-c7a1-47c9-a4c3-7fb6632679ca",
   "metadata": {},
   "source": [
    "### Below are a few examples of evaluating arithmetic expressions in Python"
   ]
  },
  {
   "cell_type": "markdown",
   "id": "35438521-71c8-4d2a-8e5b-bb8e94145838",
   "metadata": {},
   "source": [
    "a =(3*4)+5\n",
    "print(a) "
   ]
  },
  {
   "cell_type": "markdown",
   "id": "7977771a-5eec-4624-9593-61b316bb6a6c",
   "metadata": {},
   "source": [
    "a = (3 * 4) + 5\n",
    "print(a)\n"
   ]
  },
  {
   "cell_type": "markdown",
   "id": "06bd65d7-aeb5-44af-bab2-394310971d29",
   "metadata": {},
   "source": [
    "# This will convert 200 minutes to hours by dividing by 60\n",
    "minutes = 200\n",
    "hours = minutes / 60\n",
    "hours"
   ]
  },
  {
   "cell_type": "markdown",
   "id": "baa75dce-4bf0-4151-aee2-2090a3bd1e68",
   "metadata": {},
   "source": [
    "** Objectives**\n",
    "-List popular languages for Data Science\n",
    "-List popular data science tools\n",
    "-library in data science\n"
   ]
  },
  {
   "cell_type": "markdown",
   "id": "b5b31562-2c3f-46da-9eef-7d0c378dda49",
   "metadata": {},
   "source": [
    "## Lakjayani"
   ]
  }
 ],
 "metadata": {
  "kernelspec": {
   "display_name": "Python 3 (ipykernel)",
   "language": "python",
   "name": "python3"
  },
  "language_info": {
   "codemirror_mode": {
    "name": "ipython",
    "version": 3
   },
   "file_extension": ".py",
   "mimetype": "text/x-python",
   "name": "python",
   "nbconvert_exporter": "python",
   "pygments_lexer": "ipython3",
   "version": "3.12.8"
  }
 },
 "nbformat": 4,
 "nbformat_minor": 5
}
